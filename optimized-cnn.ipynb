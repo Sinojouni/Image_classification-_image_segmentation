{
 "cells": [
  {
   "cell_type": "code",
   "execution_count": 1,
   "id": "f1762929-bcfa-469c-9758-ed2cafd11c39",
   "metadata": {},
   "outputs": [],
   "source": [
    "import numpy as np\n",
    "import matplotlib.pyplot as plt\n",
    "import pandas as pd\n",
    "import tensorflow as tf\n",
    "import os\n",
    "import cv2\n",
    "from tensorflow.keras import layers,models\n",
    "from tensorflow.keras.models import load_model\n",
    "from tensorflow.keras.callbacks import EarlyStopping,ReduceLROnPlateau"
   ]
  },
  {
   "cell_type": "code",
   "execution_count": 2,
   "id": "ce68ea9e-54e6-4302-8744-4941d6cded6a",
   "metadata": {},
   "outputs": [],
   "source": [
    "data=np.zeros((5631,128,128,3))\n",
    "label=np.zeros((5631))\n",
    "count=0\n",
    "\n",
    "for file in os.listdir(\"data/green_area\"):\n",
    "    img = plt.imread('data/green_area/'+file)\n",
    "    img_t=cv2.resize(img,dsize=(128,128))\n",
    "    data[count]=img_t\n",
    "    label[count]=0\n",
    "    count+=1\n",
    "\n",
    "for file in os.listdir(\"data/water\"):\n",
    "    img = plt.imread('data/water/'+file)\n",
    "    img_t=cv2.resize(img,dsize=(128,128))\n",
    "    data[count]=img_t\n",
    "    label[count]=1\n",
    "    count+=1\n",
    "\n",
    "for file in os.listdir(\"data/desert\"):\n",
    "    img = plt.imread('data/desert/'+file)\n",
    "    img_t=cv2.resize(img,dsize=(128,128))\n",
    "    data[count]=img_t\n",
    "    label[count]=2\n",
    "    count+=1\n",
    "\n",
    "for file in os.listdir(\"data/cloudy\"):\n",
    "    img = plt.imread('data/cloudy/'+file)[:,:,:3]\n",
    "    img_t=cv2.resize(img,dsize=(128,128))\n",
    "    data[count]=img_t\n",
    "    label[count]=3\n",
    "    count+=1"
   ]
  },
  {
   "cell_type": "code",
   "execution_count": 3,
   "id": "f3667df2-8fe5-47d0-ac2c-792868745453",
   "metadata": {},
   "outputs": [],
   "source": [
    "y=np.zeros((label.shape[0],4),dtype='i')\n",
    "for i in range(y.shape[0]):\n",
    "    for j in range(y.shape[1]):\n",
    "        if(label[i]==j):\n",
    "            y[i,j]=1"
   ]
  },
  {
   "cell_type": "code",
   "execution_count": 4,
   "id": "4d1bc673-ea61-47ff-a7a0-b0e415dd32b2",
   "metadata": {},
   "outputs": [],
   "source": [
    "data=data/255.0"
   ]
  },
  {
   "cell_type": "code",
   "execution_count": 5,
   "id": "af24e8c1-bc37-473c-82ee-fa6c3da2ea96",
   "metadata": {},
   "outputs": [],
   "source": [
    "idx=np.random.permutation(data.shape[0])"
   ]
  },
  {
   "cell_type": "code",
   "execution_count": 6,
   "id": "f23ca4ea-caef-4c78-82a4-c7449adb536d",
   "metadata": {},
   "outputs": [],
   "source": [
    "train=np.copy(data)\n",
    "test=np.copy(y)\n",
    "train,test=train[idx],test[idx]"
   ]
  },
  {
   "cell_type": "code",
   "execution_count": 7,
   "id": "ffc49387-372e-47ae-9cf1-8530926585c0",
   "metadata": {},
   "outputs": [],
   "source": [
    "x_train=train[:4400]\n",
    "y_train=test[:4400]\n",
    "x_valid=train[4400:]\n",
    "y_valid=test[4400:]"
   ]
  },
  {
   "cell_type": "code",
   "execution_count": 8,
   "id": "45452542-b88e-4122-9fcd-66afb04f915f",
   "metadata": {},
   "outputs": [],
   "source": [
    "input_shape=(128,128,3)"
   ]
  },
  {
   "cell_type": "code",
   "execution_count": 9,
   "id": "79c471b2-eeda-494d-a628-c7feacfacce0",
   "metadata": {},
   "outputs": [
    {
     "name": "stderr",
     "output_type": "stream",
     "text": [
      "C:\\Users\\User\\AppData\\Roaming\\Python\\Python311\\site-packages\\keras\\src\\layers\\convolutional\\base_conv.py:107: UserWarning: Do not pass an `input_shape`/`input_dim` argument to a layer. When using Sequential models, prefer using an `Input(shape)` object as the first layer in the model instead.\n",
      "  super().__init__(activity_regularizer=activity_regularizer, **kwargs)\n"
     ]
    }
   ],
   "source": [
    "cnn=models.Sequential([\n",
    "    \n",
    "    layers.Conv2D(filters=16,kernel_size=(3,3),activation='relu',input_shape=input_shape),\n",
    "    layers.BatchNormalization(),\n",
    "    layers.MaxPooling2D(),\n",
    "    layers.Conv2D(filters=32,kernel_size=(3,3),activation='relu',input_shape=input_shape),\n",
    "    layers.BatchNormalization(),\n",
    "    layers.MaxPooling2D(),\n",
    "    layers.Conv2D(filters=64,kernel_size=(3,3),activation='relu'),\n",
    "    layers.BatchNormalization(),\n",
    "    layers.MaxPooling2D(),\n",
    "    layers.Conv2D(filters=128,kernel_size=(3,3),activation='relu'),\n",
    "    layers.BatchNormalization(),\n",
    "    layers.MaxPooling2D(),\n",
    "    layers.Conv2D(filters=256,kernel_size=(3,3),activation='relu'),\n",
    "    layers.BatchNormalization(),\n",
    "    layers.MaxPooling2D(),\n",
    "\n",
    "    layers.Flatten(),\n",
    "    layers.Dense(64,activation='relu'),\n",
    "    layers.Dense(4,activation='softmax')]\n",
    ")"
   ]
  },
  {
   "cell_type": "code",
   "execution_count": 10,
   "id": "64093510-9226-43ce-96e9-d6420f40c74e",
   "metadata": {},
   "outputs": [],
   "source": [
    "cnn.compile(optimizer=tf.keras.optimizers.Adam(0.0001),loss='categorical_crossentropy',metrics=['accuracy'])"
   ]
  },
  {
   "cell_type": "code",
   "execution_count": 11,
   "id": "5ced82b5-2209-4691-9701-96fa13456a63",
   "metadata": {},
   "outputs": [],
   "source": [
    "callbacks=[\n",
    "    ReduceLROnPlateau(monitor='val_loss',factor=0.1,patience=4),\n",
    "    EarlyStopping(monitor='val_loss',patience=20,restore_best_weights=False)\n",
    "]"
   ]
  },
  {
   "cell_type": "code",
   "execution_count": 14,
   "id": "9bbb4fd6-1786-4bd4-a85d-08220d767268",
   "metadata": {},
   "outputs": [],
   "source": [
    "epochs=60"
   ]
  },
  {
   "cell_type": "code",
   "execution_count": 13,
   "id": "88a2c40c-61a7-49f1-9427-8d30a4489e52",
   "metadata": {},
   "outputs": [
    {
     "name": "stdout",
     "output_type": "stream",
     "text": [
      "Epoch 1/40\n",
      "\u001b[1m138/138\u001b[0m \u001b[32m━━━━━━━━━━━━━━━━━━━━\u001b[0m\u001b[37m\u001b[0m \u001b[1m50s\u001b[0m 246ms/step - accuracy: 0.8479 - loss: 0.4346 - val_accuracy: 0.2900 - val_loss: 1.8243 - learning_rate: 1.0000e-04\n",
      "Epoch 2/40\n",
      "\u001b[1m138/138\u001b[0m \u001b[32m━━━━━━━━━━━━━━━━━━━━\u001b[0m\u001b[37m\u001b[0m \u001b[1m32s\u001b[0m 233ms/step - accuracy: 0.9496 - loss: 0.1406 - val_accuracy: 0.3014 - val_loss: 2.2697 - learning_rate: 1.0000e-04\n",
      "Epoch 3/40\n",
      "\u001b[1m138/138\u001b[0m \u001b[32m━━━━━━━━━━━━━━━━━━━━\u001b[0m\u001b[37m\u001b[0m \u001b[1m32s\u001b[0m 232ms/step - accuracy: 0.9564 - loss: 0.1350 - val_accuracy: 0.5361 - val_loss: 2.5612 - learning_rate: 1.0000e-04\n",
      "Epoch 4/40\n",
      "\u001b[1m138/138\u001b[0m \u001b[32m━━━━━━━━━━━━━━━━━━━━\u001b[0m\u001b[37m\u001b[0m \u001b[1m34s\u001b[0m 243ms/step - accuracy: 0.9623 - loss: 0.1148 - val_accuracy: 0.7027 - val_loss: 0.8549 - learning_rate: 1.0000e-04\n",
      "Epoch 5/40\n",
      "\u001b[1m138/138\u001b[0m \u001b[32m━━━━━━━━━━━━━━━━━━━━\u001b[0m\u001b[37m\u001b[0m \u001b[1m31s\u001b[0m 224ms/step - accuracy: 0.9611 - loss: 0.1016 - val_accuracy: 0.8652 - val_loss: 0.3276 - learning_rate: 1.0000e-04\n",
      "Epoch 6/40\n",
      "\u001b[1m138/138\u001b[0m \u001b[32m━━━━━━━━━━━━━━━━━━━━\u001b[0m\u001b[37m\u001b[0m \u001b[1m32s\u001b[0m 229ms/step - accuracy: 0.9754 - loss: 0.0799 - val_accuracy: 0.8562 - val_loss: 0.5625 - learning_rate: 1.0000e-04\n",
      "Epoch 7/40\n",
      "\u001b[1m138/138\u001b[0m \u001b[32m━━━━━━━━━━━━━━━━━━━━\u001b[0m\u001b[37m\u001b[0m \u001b[1m32s\u001b[0m 229ms/step - accuracy: 0.9715 - loss: 0.0884 - val_accuracy: 0.8270 - val_loss: 0.4668 - learning_rate: 1.0000e-04\n",
      "Epoch 8/40\n",
      "\u001b[1m138/138\u001b[0m \u001b[32m━━━━━━━━━━━━━━━━━━━━\u001b[0m\u001b[37m\u001b[0m \u001b[1m32s\u001b[0m 229ms/step - accuracy: 0.9723 - loss: 0.0762 - val_accuracy: 0.9106 - val_loss: 0.2600 - learning_rate: 1.0000e-04\n",
      "Epoch 9/40\n",
      "\u001b[1m138/138\u001b[0m \u001b[32m━━━━━━━━━━━━━━━━━━━━\u001b[0m\u001b[37m\u001b[0m \u001b[1m32s\u001b[0m 231ms/step - accuracy: 0.9711 - loss: 0.0810 - val_accuracy: 0.9318 - val_loss: 0.1560 - learning_rate: 1.0000e-04\n",
      "Epoch 10/40\n",
      "\u001b[1m138/138\u001b[0m \u001b[32m━━━━━━━━━━━━━━━━━━━━\u001b[0m\u001b[37m\u001b[0m \u001b[1m32s\u001b[0m 231ms/step - accuracy: 0.9653 - loss: 0.0987 - val_accuracy: 0.7677 - val_loss: 1.0988 - learning_rate: 1.0000e-04\n",
      "Epoch 11/40\n",
      "\u001b[1m138/138\u001b[0m \u001b[32m━━━━━━━━━━━━━━━━━━━━\u001b[0m\u001b[37m\u001b[0m \u001b[1m32s\u001b[0m 231ms/step - accuracy: 0.9733 - loss: 0.0762 - val_accuracy: 0.8018 - val_loss: 0.6202 - learning_rate: 1.0000e-04\n",
      "Epoch 12/40\n",
      "\u001b[1m138/138\u001b[0m \u001b[32m━━━━━━━━━━━━━━━━━━━━\u001b[0m\u001b[37m\u001b[0m \u001b[1m32s\u001b[0m 230ms/step - accuracy: 0.9842 - loss: 0.0444 - val_accuracy: 0.8440 - val_loss: 0.3169 - learning_rate: 1.0000e-04\n",
      "Epoch 13/40\n",
      "\u001b[1m138/138\u001b[0m \u001b[32m━━━━━━━━━━━━━━━━━━━━\u001b[0m\u001b[37m\u001b[0m \u001b[1m32s\u001b[0m 230ms/step - accuracy: 0.9824 - loss: 0.0526 - val_accuracy: 0.9634 - val_loss: 0.1172 - learning_rate: 1.0000e-04\n",
      "Epoch 14/40\n",
      "\u001b[1m138/138\u001b[0m \u001b[32m━━━━━━━━━━━━━━━━━━━━\u001b[0m\u001b[37m\u001b[0m \u001b[1m32s\u001b[0m 229ms/step - accuracy: 0.9831 - loss: 0.0506 - val_accuracy: 0.9082 - val_loss: 0.1749 - learning_rate: 1.0000e-04\n",
      "Epoch 15/40\n",
      "\u001b[1m138/138\u001b[0m \u001b[32m━━━━━━━━━━━━━━━━━━━━\u001b[0m\u001b[37m\u001b[0m \u001b[1m32s\u001b[0m 229ms/step - accuracy: 0.9861 - loss: 0.0466 - val_accuracy: 0.9659 - val_loss: 0.1118 - learning_rate: 1.0000e-04\n",
      "Epoch 16/40\n",
      "\u001b[1m138/138\u001b[0m \u001b[32m━━━━━━━━━━━━━━━━━━━━\u001b[0m\u001b[37m\u001b[0m \u001b[1m32s\u001b[0m 230ms/step - accuracy: 0.9859 - loss: 0.0424 - val_accuracy: 0.9813 - val_loss: 0.0807 - learning_rate: 1.0000e-04\n",
      "Epoch 17/40\n",
      "\u001b[1m138/138\u001b[0m \u001b[32m━━━━━━━━━━━━━━━━━━━━\u001b[0m\u001b[37m\u001b[0m \u001b[1m32s\u001b[0m 230ms/step - accuracy: 0.9819 - loss: 0.0551 - val_accuracy: 0.7896 - val_loss: 0.7799 - learning_rate: 1.0000e-04\n",
      "Epoch 18/40\n",
      "\u001b[1m138/138\u001b[0m \u001b[32m━━━━━━━━━━━━━━━━━━━━\u001b[0m\u001b[37m\u001b[0m \u001b[1m32s\u001b[0m 230ms/step - accuracy: 0.9888 - loss: 0.0373 - val_accuracy: 0.9846 - val_loss: 0.0543 - learning_rate: 1.0000e-04\n",
      "Epoch 19/40\n",
      "\u001b[1m138/138\u001b[0m \u001b[32m━━━━━━━━━━━━━━━━━━━━\u001b[0m\u001b[37m\u001b[0m \u001b[1m32s\u001b[0m 230ms/step - accuracy: 0.9903 - loss: 0.0296 - val_accuracy: 0.9643 - val_loss: 0.0977 - learning_rate: 1.0000e-04\n",
      "Epoch 20/40\n",
      "\u001b[1m138/138\u001b[0m \u001b[32m━━━━━━━━━━━━━━━━━━━━\u001b[0m\u001b[37m\u001b[0m \u001b[1m32s\u001b[0m 232ms/step - accuracy: 0.9761 - loss: 0.0683 - val_accuracy: 0.9553 - val_loss: 0.0938 - learning_rate: 1.0000e-04\n",
      "Epoch 21/40\n",
      "\u001b[1m138/138\u001b[0m \u001b[32m━━━━━━━━━━━━━━━━━━━━\u001b[0m\u001b[37m\u001b[0m \u001b[1m32s\u001b[0m 231ms/step - accuracy: 0.9797 - loss: 0.0502 - val_accuracy: 0.9521 - val_loss: 0.1242 - learning_rate: 1.0000e-04\n",
      "Epoch 22/40\n",
      "\u001b[1m138/138\u001b[0m \u001b[32m━━━━━━━━━━━━━━━━━━━━\u001b[0m\u001b[37m\u001b[0m \u001b[1m32s\u001b[0m 231ms/step - accuracy: 0.9888 - loss: 0.0345 - val_accuracy: 0.9618 - val_loss: 0.0932 - learning_rate: 1.0000e-04\n",
      "Epoch 23/40\n",
      "\u001b[1m138/138\u001b[0m \u001b[32m━━━━━━━━━━━━━━━━━━━━\u001b[0m\u001b[37m\u001b[0m \u001b[1m32s\u001b[0m 231ms/step - accuracy: 0.9931 - loss: 0.0195 - val_accuracy: 0.9927 - val_loss: 0.0233 - learning_rate: 1.0000e-05\n",
      "Epoch 24/40\n",
      "\u001b[1m138/138\u001b[0m \u001b[32m━━━━━━━━━━━━━━━━━━━━\u001b[0m\u001b[37m\u001b[0m \u001b[1m32s\u001b[0m 233ms/step - accuracy: 0.9960 - loss: 0.0169 - val_accuracy: 0.9951 - val_loss: 0.0183 - learning_rate: 1.0000e-05\n",
      "Epoch 25/40\n",
      "\u001b[1m138/138\u001b[0m \u001b[32m━━━━━━━━━━━━━━━━━━━━\u001b[0m\u001b[37m\u001b[0m \u001b[1m32s\u001b[0m 231ms/step - accuracy: 0.9935 - loss: 0.0202 - val_accuracy: 0.9943 - val_loss: 0.0182 - learning_rate: 1.0000e-05\n",
      "Epoch 26/40\n",
      "\u001b[1m138/138\u001b[0m \u001b[32m━━━━━━━━━━━━━━━━━━━━\u001b[0m\u001b[37m\u001b[0m \u001b[1m32s\u001b[0m 234ms/step - accuracy: 0.9964 - loss: 0.0122 - val_accuracy: 0.9878 - val_loss: 0.0319 - learning_rate: 1.0000e-05\n",
      "Epoch 27/40\n",
      "\u001b[1m138/138\u001b[0m \u001b[32m━━━━━━━━━━━━━━━━━━━━\u001b[0m\u001b[37m\u001b[0m \u001b[1m32s\u001b[0m 233ms/step - accuracy: 0.9960 - loss: 0.0135 - val_accuracy: 0.9943 - val_loss: 0.0190 - learning_rate: 1.0000e-05\n",
      "Epoch 28/40\n",
      "\u001b[1m138/138\u001b[0m \u001b[32m━━━━━━━━━━━━━━━━━━━━\u001b[0m\u001b[37m\u001b[0m \u001b[1m32s\u001b[0m 234ms/step - accuracy: 0.9986 - loss: 0.0097 - val_accuracy: 0.9903 - val_loss: 0.0351 - learning_rate: 1.0000e-05\n",
      "Epoch 29/40\n",
      "\u001b[1m138/138\u001b[0m \u001b[32m━━━━━━━━━━━━━━━━━━━━\u001b[0m\u001b[37m\u001b[0m \u001b[1m32s\u001b[0m 232ms/step - accuracy: 0.9950 - loss: 0.0163 - val_accuracy: 0.9935 - val_loss: 0.0163 - learning_rate: 1.0000e-06\n",
      "Epoch 30/40\n",
      "\u001b[1m138/138\u001b[0m \u001b[32m━━━━━━━━━━━━━━━━━━━━\u001b[0m\u001b[37m\u001b[0m \u001b[1m32s\u001b[0m 230ms/step - accuracy: 0.9961 - loss: 0.0113 - val_accuracy: 0.9935 - val_loss: 0.0162 - learning_rate: 1.0000e-06\n",
      "Epoch 31/40\n",
      "\u001b[1m138/138\u001b[0m \u001b[32m━━━━━━━━━━━━━━━━━━━━\u001b[0m\u001b[37m\u001b[0m \u001b[1m32s\u001b[0m 231ms/step - accuracy: 0.9958 - loss: 0.0127 - val_accuracy: 0.9935 - val_loss: 0.0162 - learning_rate: 1.0000e-06\n",
      "Epoch 32/40\n",
      "\u001b[1m138/138\u001b[0m \u001b[32m━━━━━━━━━━━━━━━━━━━━\u001b[0m\u001b[37m\u001b[0m \u001b[1m32s\u001b[0m 233ms/step - accuracy: 0.9977 - loss: 0.0091 - val_accuracy: 0.9919 - val_loss: 0.0179 - learning_rate: 1.0000e-06\n",
      "Epoch 33/40\n",
      "\u001b[1m138/138\u001b[0m \u001b[32m━━━━━━━━━━━━━━━━━━━━\u001b[0m\u001b[37m\u001b[0m \u001b[1m32s\u001b[0m 231ms/step - accuracy: 0.9967 - loss: 0.0112 - val_accuracy: 0.9935 - val_loss: 0.0160 - learning_rate: 1.0000e-06\n",
      "Epoch 34/40\n",
      "\u001b[1m138/138\u001b[0m \u001b[32m━━━━━━━━━━━━━━━━━━━━\u001b[0m\u001b[37m\u001b[0m \u001b[1m32s\u001b[0m 231ms/step - accuracy: 0.9970 - loss: 0.0099 - val_accuracy: 0.9927 - val_loss: 0.0168 - learning_rate: 1.0000e-06\n",
      "Epoch 35/40\n",
      "\u001b[1m138/138\u001b[0m \u001b[32m━━━━━━━━━━━━━━━━━━━━\u001b[0m\u001b[37m\u001b[0m \u001b[1m32s\u001b[0m 232ms/step - accuracy: 0.9973 - loss: 0.0135 - val_accuracy: 0.9919 - val_loss: 0.0169 - learning_rate: 1.0000e-06\n",
      "Epoch 36/40\n",
      "\u001b[1m138/138\u001b[0m \u001b[32m━━━━━━━━━━━━━━━━━━━━\u001b[0m\u001b[37m\u001b[0m \u001b[1m32s\u001b[0m 232ms/step - accuracy: 0.9967 - loss: 0.0110 - val_accuracy: 0.9935 - val_loss: 0.0171 - learning_rate: 1.0000e-06\n",
      "Epoch 37/40\n",
      "\u001b[1m138/138\u001b[0m \u001b[32m━━━━━━━━━━━━━━━━━━━━\u001b[0m\u001b[37m\u001b[0m \u001b[1m32s\u001b[0m 232ms/step - accuracy: 0.9954 - loss: 0.0132 - val_accuracy: 0.9935 - val_loss: 0.0166 - learning_rate: 1.0000e-06\n",
      "Epoch 38/40\n",
      "\u001b[1m138/138\u001b[0m \u001b[32m━━━━━━━━━━━━━━━━━━━━\u001b[0m\u001b[37m\u001b[0m \u001b[1m32s\u001b[0m 235ms/step - accuracy: 0.9973 - loss: 0.0108 - val_accuracy: 0.9935 - val_loss: 0.0165 - learning_rate: 1.0000e-07\n",
      "Epoch 39/40\n",
      "\u001b[1m138/138\u001b[0m \u001b[32m━━━━━━━━━━━━━━━━━━━━\u001b[0m\u001b[37m\u001b[0m \u001b[1m32s\u001b[0m 234ms/step - accuracy: 0.9978 - loss: 0.0100 - val_accuracy: 0.9927 - val_loss: 0.0166 - learning_rate: 1.0000e-07\n",
      "Epoch 40/40\n",
      "\u001b[1m138/138\u001b[0m \u001b[32m━━━━━━━━━━━━━━━━━━━━\u001b[0m\u001b[37m\u001b[0m \u001b[1m32s\u001b[0m 230ms/step - accuracy: 0.9980 - loss: 0.0091 - val_accuracy: 0.9935 - val_loss: 0.0168 - learning_rate: 1.0000e-07\n"
     ]
    },
    {
     "data": {
      "text/plain": [
       "<keras.src.callbacks.history.History at 0x2330e750390>"
      ]
     },
     "execution_count": 13,
     "metadata": {},
     "output_type": "execute_result"
    }
   ],
   "source": [
    "cnn.fit(x_train,y_train,\n",
    "        epochs=epochs,\n",
    "        validation_data=(x_valid,y_valid),\n",
    "        callbacks=callbacks\n",
    "       )"
   ]
  },
  {
   "cell_type": "code",
   "execution_count": 15,
   "id": "a5a24d81-e21c-4b2e-9317-9a76e082fcf6",
   "metadata": {},
   "outputs": [
    {
     "name": "stdout",
     "output_type": "stream",
     "text": [
      "\u001b[1m39/39\u001b[0m \u001b[32m━━━━━━━━━━━━━━━━━━━━\u001b[0m\u001b[37m\u001b[0m \u001b[1m2s\u001b[0m 56ms/step - accuracy: 0.9925 - loss: 0.0199\n"
     ]
    },
    {
     "data": {
      "text/plain": [
       "[0.016779309138655663, 0.9935012459754944]"
      ]
     },
     "execution_count": 15,
     "metadata": {},
     "output_type": "execute_result"
    }
   ],
   "source": [
    "cnn.evaluate(x_valid,y_valid)"
   ]
  },
  {
   "cell_type": "code",
   "execution_count": 16,
   "id": "00d7b1a1-74ba-4590-a83a-965ae5242122",
   "metadata": {},
   "outputs": [
    {
     "name": "stdout",
     "output_type": "stream",
     "text": [
      "\u001b[1m39/39\u001b[0m \u001b[32m━━━━━━━━━━━━━━━━━━━━\u001b[0m\u001b[37m\u001b[0m \u001b[1m3s\u001b[0m 63ms/step\n"
     ]
    }
   ],
   "source": [
    "y_predict=cnn.predict(x_valid)"
   ]
  },
  {
   "cell_type": "code",
   "execution_count": 17,
   "id": "6ed33628-8fe7-49d5-b665-e9b1dc7a0832",
   "metadata": {},
   "outputs": [],
   "source": [
    "def plot(n):\n",
    "    fig=plt.figure(figsize=(16,16))\n",
    "    c=4\n",
    "    r=8\n",
    "    ax=[]\n",
    "    for i in range(1,c*r+1):\n",
    "        j=(32*n)+i\n",
    "        ax.append(fig.add_subplot(8,4,i))\n",
    "        if(y_predict[j].argmax()==0):\n",
    "            if(y_valid[j].argmax()==0):\n",
    "                ax[-1].yaxis.label.set_color('green')\n",
    "                plt.ylabel(\"forest\")\n",
    "            else:\n",
    "                ax[-1].yaxis.label.set_color('red')\n",
    "                plt.ylabel(\"forest\")\n",
    "        elif(y_predict[j].argmax()==1):\n",
    "            if(y_valid[j].argmax()==1):\n",
    "                ax[-1].yaxis.label.set_color('green')\n",
    "                plt.ylabel(\"lake\")\n",
    "            else:\n",
    "                ax[-1].yaxis.label.set_color('red')\n",
    "                plt.ylabel(\"lake\")\n",
    "        elif(y_predict[j].argmax()==2):\n",
    "            if(y_valid[j].argmax()==2):\n",
    "                ax[-1].yaxis.label.set_color('green')\n",
    "                plt.ylabel(\"desert\")\n",
    "            else:\n",
    "                ax[-1].yaxis.label.set_color('red')\n",
    "                plt.ylabel(\"desert\")\n",
    "        elif(y_predict[j].argmax()==3):\n",
    "            if(y_valid[j].argmax()==3):\n",
    "                ax[-1].yaxis.label.set_color('green')\n",
    "                plt.ylabel(\"cloud\")\n",
    "            else:\n",
    "                ax[-1].yaxis.label.set_color('red')\n",
    "                plt.ylabel(\"cloud\")\n",
    "        plt.imshow(x_valid[j])\n",
    "    plt.show()\n",
    "    "
   ]
  },
  {
   "cell_type": "code",
   "execution_count": null,
   "id": "0cbe4c13-2c79-4bf0-9a50-1df89540f741",
   "metadata": {},
   "outputs": [],
   "source": [
    "for i in range(38):\n",
    "    plot(i)"
   ]
  },
  {
   "cell_type": "code",
   "execution_count": null,
   "id": "e5a1cac1-5356-44f3-871c-5091096dc096",
   "metadata": {},
   "outputs": [],
   "source": []
  }
 ],
 "metadata": {
  "kernelspec": {
   "display_name": "Python 3 (ipykernel)",
   "language": "python",
   "name": "python3"
  },
  "language_info": {
   "codemirror_mode": {
    "name": "ipython",
    "version": 3
   },
   "file_extension": ".py",
   "mimetype": "text/x-python",
   "name": "python",
   "nbconvert_exporter": "python",
   "pygments_lexer": "ipython3",
   "version": "3.11.7"
  }
 },
 "nbformat": 4,
 "nbformat_minor": 5
}
